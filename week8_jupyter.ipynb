{
 "cells": [
  {
   "cell_type": "markdown",
   "metadata": {},
   "source": [
    "# Week 8 - Tensorflow and CNN for Topic Classification\n",
    "## Jupyter\n",
    "The Jupyter Notebook is an open-source web application that allows you to create and share documents that contain live code, equations, visualizations and explanatory text. Uses include: data cleaning and transformation, numerical simulation, statistical modeling, machine learning and much more.\n",
    "\n",
    "## Docker\n",
    "It is much more convenient to use a docker image containing `Tensorflow(r1.0.1)` and `Jupyter`, as well as other common `python(r2.7)` packages.\n",
    "\n",
    "```dockerfile\n",
    "FROM jupyter/scipy-notebook\n",
    "\n",
    "MAINTAINER Jupyter Project <jupyter@googlegroups.com>\n",
    "\n",
    "# Install Python 2 Tensorflow\n",
    "RUN conda install --quiet --yes -n python2 'tensorflow=1.0.1'\n",
    "```\n",
    "\n",
    "```bash\n",
    "sudo docker build . -t your_name/cs503_tensorflow_jupyter\n",
    "sudo docker login\n",
    "sudo docker push your_name/cs503_tensorflow_jupyter\n",
    "```\n",
    "\n",
    "**Run**\n",
    "``` bash\n",
    "docker run -it --rm -p 8888:8888 your_name/cs503_tensorflow_jupyter\n",
    "```\n",
    "\n",
    "Go to localhost:8888 to start.\n"
   ]
  },
  {
   "cell_type": "markdown",
   "metadata": {},
   "source": [
    "## Data\n",
    "### Data Format\n",
    "We will use 500 news with labeled topic to train our model. The format of the data is \n",
    "```\n",
    "[#class_number],[news_title],[news_description],[news_source]\n",
    "```\n",
    "\n",
    "Two example:\n",
    "\n",
    "```\n",
    "3,Trump: Netanyahu should 'hold back' on settlements,\"President Donald Trump told Israeli Prime Minister Benjamin Netanyahu Wednesday that the US is going to push for a peace deal with the Palestinians and asked Israel \"\"to hold back\"\" on settlement construction.\",cnn\n",
    "\n",
    "3,\"Trump: UN treats Israel 'very, very unfairly' - CNN Video\",President Donald Trump and Israeli Prime Minister Benjamin Netanyahu hold a joint press conference at the White House.,cnn\n",
    "```\n",
    "\n",
    "The class is one of total 17 classes:\n",
    "```\n",
    " 1: Colleges & Schools\n",
    " 2: Environmental\n",
    " 3: World\n",
    " 4: Entertainment\n",
    " 5: Media\n",
    " 6: Politics & Government\n",
    " 7: Regional News\n",
    " 8: Religion\n",
    " 9: Sports\n",
    "10: Technology\n",
    "11: Traffic\n",
    "12: Weather\n",
    "13: Economic & Corp\n",
    "14: Advertisements\n",
    "15: Crime\n",
    "16: Other\n",
    "17: Magazine\n",
    "```\n",
    "\n",
    "Pandas Dataframe is a useful data structure for data science. Let's look at few of them in pandas dataframe.\n"
   ]
  },
  {
   "cell_type": "code",
   "execution_count": 1,
   "metadata": {
    "collapsed": false
   },
   "outputs": [
    {
     "name": "stdout",
     "output_type": "stream",
     "text": [
      "   0                                                  1  \\\n",
      "0  3  Trump: Netanyahu should 'hold back' on settlem...   \n",
      "1  3  Trump: UN treats Israel 'very, very unfairly' ...   \n",
      "2  3      Where Trump and Netanyahu stand on key issues   \n",
      "3  3  Trump: West Bank settlements 'don't help' the ...   \n",
      "4  3                         Trump watch: Live coverage   \n",
      "5  3      Why Netanyahu must stand up to Israel's right   \n",
      "6  3  Flynn called victim of political assassination...   \n",
      "7  3  Trump aides were in constant touch with senior...   \n",
      "8  6  Will this undocumented mom be there when her k...   \n",
      "9  6  In college, Trump aide Stephen Miller led cont...   \n",
      "\n",
      "                                                   2    3  \n",
      "0  President Donald Trump told Israeli Prime Mini...  cnn  \n",
      "1  President Donald Trump and Israeli Prime Minis...  cnn  \n",
      "2  \"Tomorrow's world will be different -- and it ...  cnn  \n",
      "3  President Donald Trump told Israeli newspaper ...  cnn  \n",
      "4  President Trump hosts world leaders. Michael F...  cnn  \n",
      "5  Israel is at a crossroads: two states or not t...  cnn  \n",
      "6  Iowa Rep. Steve King says General Michael Flyn...  cnn  \n",
      "7  High-level advisers close to then-presidential...  cnn  \n",
      "8  Like parents around the country, Jeanette Vizg...  cnn  \n",
      "9  White House senior policy adviser Stephen Mill...  cnn  \n"
     ]
    }
   ],
   "source": [
    "import pandas as pd\n",
    "\n",
    "DATA_SET_FILE = './labeled_news.csv'\n",
    "\n",
    "df = pd.read_csv(DATA_SET_FILE, header=None)\n",
    "\n",
    "print df.head(10)"
   ]
  },
  {
   "cell_type": "markdown",
   "metadata": {},
   "source": [
    "### Statistics\n",
    "Let's first take a look at our data from a statistics perspective.\n",
    "\n",
    "> We can use pandas to do a quick data analysis: http://machinelearningmastery.com/quick-and-dirty-data-analysis-with-pandas/"
   ]
  },
  {
   "cell_type": "code",
   "execution_count": 3,
   "metadata": {
    "collapsed": false
   },
   "outputs": [
    {
     "name": "stdout",
     "output_type": "stream",
     "text": [
      "class description\n",
      "count    500.0000\n",
      "mean       7.6140\n",
      "std        3.3953\n",
      "min        1.0000\n",
      "25%        6.0000\n",
      "50%        6.0000\n",
      "75%        9.0000\n",
      "max       17.0000\n",
      "Name: 0, dtype: float64\n",
      "\n",
      "\n",
      "=====================\n",
      "\n",
      "\n",
      "source description\n",
      "count     500\n",
      "unique     11\n",
      "top       cnn\n",
      "freq      132\n",
      "Name: 3, dtype: object\n"
     ]
    }
   ],
   "source": [
    "import pandas as pd\n",
    "\n",
    "DATA_SET_FILE = './labeled_news.csv'\n",
    "\n",
    "df = pd.read_csv(DATA_SET_FILE, header=None)\n",
    "\n",
    "\n",
    "print \"class description\"\n",
    "print df[0].describe()\n",
    "\n",
    "print \"\"\"\n",
    "\n",
    "=====================\n",
    "\n",
    "\"\"\"\n",
    "\n",
    "print \"source description\"\n",
    "print df[3].describe()\n"
   ]
  },
  {
   "cell_type": "markdown",
   "metadata": {},
   "source": [
    "**Class Distribution**"
   ]
  },
  {
   "cell_type": "code",
   "execution_count": 4,
   "metadata": {
    "collapsed": false
   },
   "outputs": [
    {
     "name": "stderr",
     "output_type": "stream",
     "text": [
      "/home/yifant/Downloads/enter/lib/python2.7/site-packages/IPython/core/interactiveshell.py:2881: FutureWarning: \n",
      "mpl_style had been deprecated and will be removed in a future version.\n",
      "Use `matplotlib.pyplot.style.use` instead.\n",
      "\n",
      "  exec(code_obj, self.user_global_ns, self.user_ns)\n"
     ]
    },
    {
     "data": {
      "text/plain": [
       "<matplotlib.axes._subplots.AxesSubplot at 0x7fb6de94bb10>"
      ]
     },
     "execution_count": 4,
     "metadata": {},
     "output_type": "execute_result"
    },
    {
     "name": "stderr",
     "output_type": "stream",
     "text": [
      "/home/yifant/.local/lib/python2.7/site-packages/matplotlib/font_manager.py:1297: UserWarning: findfont: Font family [u'monospace'] not found. Falling back to DejaVu Sans\n",
      "  (prop.get_family(), self.defaultFamily[fontext]))\n"
     ]
    },
    {
     "data": {
      "image/png": "[encoded data removed]",
      "text/plain": [
       "<matplotlib.figure.Figure at 0x7fb6de94b450>"
      ]
     },
     "metadata": {},
     "output_type": "display_data"
    }
   ],
   "source": [
    "import matplotlib.pyplot as plt\n",
    "\n",
    "pd.options.display.mpl_style = 'default'\n",
    "\n",
    "df[0].value_counts().plot(kind=\"bar\")\n"
   ]
  },
  {
   "cell_type": "markdown",
   "metadata": {},
   "source": [
    "**Source Distribution**"
   ]
  },
  {
   "cell_type": "code",
   "execution_count": 5,
   "metadata": {
    "collapsed": false
   },
   "outputs": [
    {
     "data": {
      "text/plain": [
       "<matplotlib.axes._subplots.AxesSubplot at 0x7fb6dc80df90>"
      ]
     },
     "execution_count": 5,
     "metadata": {},
     "output_type": "execute_result"
    },
    {
     "data": {
      "image/png": "[encoded data removed]",
      "text/plain": [
       "<matplotlib.figure.Figure at 0x7fb6dc829c10>"
      ]
     },
     "metadata": {},
     "output_type": "display_data"
    }
   ],
   "source": [
    "df[3].value_counts().plot(kind=\"bar\")"
   ]
  },
  {
   "cell_type": "markdown",
   "metadata": {},
   "source": [
    "## Vocabulary Embedding\n",
    "Tensorflow cannot handle String directly. Therefore, we need to convert String into vectors. This is called embedding.\n",
    "\n",
    "One example:\n",
    "```\n",
    "    Sentence 1: \"I like apple\"\n",
    "    Sentence 2: \"I like banana\"\n",
    "    Sentence 3: \"I eat apple\"\n",
    "```\n",
    "\n",
    "We scan all 3 sentences then we found there are 5 unique words: \n",
    "```\n",
    "    ['I', 'like', 'eat', 'apple', 'banana']\n",
    "```\n",
    "Now we can use number to represent each of them:\n",
    "```\n",
    "    [0, 1, 2, 3, 4]\n",
    "```\n",
    "So, the three sentences can be encoded into:\n",
    "```\n",
    "    Sentence 1: [0, 1, 3]\n",
    "    Sentence 2: [0, 1, 4]\n",
    "    Sentence 3: [0, 2, 3]\n",
    "```\n",
    "\n",
    "### VocabularyProcessor\n",
    "Tensorflow provides a easy-to-use tool to do embedding.\n"
   ]
  },
  {
   "cell_type": "code",
   "execution_count": 6,
   "metadata": {
    "collapsed": false
   },
   "outputs": [
    {
     "ename": "ImportError",
     "evalue": "No module named tensorflow",
     "output_type": "error",
     "traceback": [
      "\u001b[0;31m---------------------------------------------------------------------------\u001b[0m",
      "\u001b[0;31mImportError\u001b[0m                               Traceback (most recent call last)",
      "\u001b[0;32m<ipython-input-6-41c21db64ddf>\u001b[0m in \u001b[0;36m<module>\u001b[0;34m()\u001b[0m\n\u001b[1;32m      1\u001b[0m \u001b[0;32mimport\u001b[0m \u001b[0mnumpy\u001b[0m \u001b[0;32mas\u001b[0m \u001b[0mnp\u001b[0m\u001b[0;34m\u001b[0m\u001b[0m\n\u001b[0;32m----> 2\u001b[0;31m \u001b[0;32mimport\u001b[0m \u001b[0mtensorflow\u001b[0m \u001b[0;32mas\u001b[0m \u001b[0mtf\u001b[0m\u001b[0;34m\u001b[0m\u001b[0m\n\u001b[0m\u001b[1;32m      3\u001b[0m \u001b[0;34m\u001b[0m\u001b[0m\n\u001b[1;32m      4\u001b[0m \u001b[0mMAX_DOCUMENT_LENGTH\u001b[0m \u001b[0;34m=\u001b[0m \u001b[0;36m5\u001b[0m\u001b[0;34m\u001b[0m\u001b[0m\n\u001b[1;32m      5\u001b[0m \u001b[0;34m\u001b[0m\u001b[0m\n",
      "\u001b[0;31mImportError\u001b[0m: No module named tensorflow"
     ]
    }
   ],
   "source": [
    "import numpy as np\n",
    "import tensorflow as tf\n",
    "\n",
    "MAX_DOCUMENT_LENGTH = 5\n",
    "\n",
    "vocab_processor = tf.contrib.learn.preprocessing.VocabularyProcessor(MAX_DOCUMENT_LENGTH)\n",
    "\n",
    "# fit and transform\n",
    "sentences = [\n",
    "    \"I like apple\",\n",
    "    \"I like banana\",\n",
    "    \"I eat apple\"\n",
    "]\n",
    "\n",
    "embedded_sentences = np.array(list(vocab_processor.fit_transform(sentences)))\n",
    "print embedded_sentences\n",
    "\n",
    "print 'Total unique words: %d' % len(vocab_processor.vocabulary_)\n",
    "\n",
    "print \"\"\n",
    "# just fit: unseen words will be interpreted as 0\n",
    "new_sentences = [\n",
    "    \"This is a brand new sentence which we never seen before and is very long\",\n",
    "    \"I hate doing homework!\",\n",
    "    \"I like banana\",\n",
    "    \"I eat apple\"\n",
    "]\n",
    "\n",
    "new_embedded_sentences = np.array(list(vocab_processor.fit_transform(new_sentences)))\n",
    "print new_embedded_sentences\n"
   ]
  },
  {
   "cell_type": "markdown",
   "metadata": {},
   "source": [
    "### One-hot Embedding\n",
    "We have converted the string into an integer vector. But that is not good enough. We need to convert a word into one-hot vector:\n",
    "```\n",
    "Assume we only have 10 unique words.\n",
    "\n",
    "    0 -> [1, 0, 0, 0, 0, 0, 0, 0, 0, 0]\n",
    "    1 -> [0, 1, 0, 0, 0, 0, 0, 0, 0, 0]\n",
    "    2 -> [0, 0, 1, 0, 0, 0, 0, 0, 0, 0]\n",
    "    3 -> [0, 0, 0, 1, 0, 0, 0, 0, 0, 0]\n",
    "    4 -> [0, 0, 0, 0, 1, 0, 0, 0, 0, 0]\n",
    "    5 -> [0, 0, 0, 0, 0, 1, 0, 0, 0, 0]\n",
    "    6 -> [0, 0, 0, 0, 0, 0, 1, 0, 0, 0]\n",
    "    7 -> [0, 0, 0, 0, 0, 0, 0, 1, 0, 0]\n",
    "    8 -> [0, 0, 0, 0, 0, 0, 0, 0, 1, 0]\n",
    "    9 -> [0, 0, 0, 0, 0, 0, 0, 0, 0, 1]\n",
    "```\n",
    "\n",
    "Thus, one setence is converted into a matrix:\n",
    "\n",
    "```\n",
    "Assume there are only 5 unique words:\n",
    "\n",
    "    \"I like apple\" \n",
    "-> \n",
    "    [1 2 3 0 0] \n",
    "->\n",
    "    [\n",
    "        [0, 1, 0, 0, 0],  => I\n",
    "        [0, 0, 1, 0, 0],  => like\n",
    "        [0, 0, 0, 1, 0],  => apple\n",
    "        [1, 0, 0, 0, 0],  => padding\n",
    "        [1, 0, 0, 0, 0]   => padding\n",
    "    ]\n",
    "```\n",
    "\n",
    "#### Tensorflow embed_sequence\n",
    "Tensorflow provides tf.contrib.layers.embed_sequence which can help use with one-hot embedding. \n",
    "\n",
    "In real world, we don't use native [0, 1] way to label a word, but use a real number."
   ]
  },
  {
   "cell_type": "code",
   "execution_count": 36,
   "metadata": {
    "collapsed": false
   },
   "outputs": [
    {
     "name": "stdout",
     "output_type": "stream",
     "text": [
      "[[[-0.15365833  0.60118073 -0.16130793 -0.51932704  0.27153915  0.20354986]\n",
      "  [ 0.15726829 -0.29960257  0.66570419 -0.34065881  0.22046089  0.12072778]\n",
      "  [ 0.06263393  0.14344341 -0.02278173 -0.58802676  0.19248533 -0.42651936]\n",
      "  [ 0.51072448 -0.03707522 -0.15842998 -0.63320112  0.49047202 -0.46788716]\n",
      "  [ 0.51072448 -0.03707522 -0.15842998 -0.63320112  0.49047202 -0.46788716]]]\n"
     ]
    }
   ],
   "source": [
    "import tensorflow as tf\n",
    "\n",
    "vocab_size = 6\n",
    "embed_dim = 6\n",
    "\n",
    "sentences = [\n",
    "    [1, 2, 3, 0, 0]\n",
    "]\n",
    "embedded_setences = tf.contrib.layers.embed_sequence(sentences, vocab_size, embed_dim)\n",
    "\n",
    "\n",
    "with tf.Session() as sess:\n",
    "    sess.run(tf.global_variables_initializer())\n",
    "    result = sess.run(embedded_setences)\n",
    "    print(result)\n"
   ]
  },
  {
   "cell_type": "markdown",
   "metadata": {},
   "source": [
    "## Convolutional Neural Networks (CNNs)\n",
    "We cannot dive deep into what is convolution here. \n",
    "\n",
    "But here is a great article about CNNs for NLP:\n",
    "http://www.wildml.com/2015/11/understanding-convolutional-neural-networks-for-nlp/\n",
    "\n",
    "### Convolution\n",
    "![image](http://deeplearning.stanford.edu/wiki/images/6/6c/Convolution_schematic.gif)\n",
    "\n",
    "### Pooling\n",
    "![image](http://d3kbpzbmcynnmx.cloudfront.net/wp-content/uploads/2015/11/Screen-Shot-2015-11-05-at-2.18.38-PM.png)\n",
    "\n",
    "## Put Eveyrthing Together"
   ]
  },
  {
   "cell_type": "code",
   "execution_count": 46,
   "metadata": {
    "collapsed": false
   },
   "outputs": [
    {
     "name": "stdout",
     "output_type": "stream",
     "text": [
      "Total words: 2127\n",
      "WARNING:tensorflow:Using temporary folder as model directory: /tmp/tmpb5sjrC\n",
      "INFO:tensorflow:Using default config.\n",
      "INFO:tensorflow:Using config: {'_save_checkpoints_secs': 600, '_num_ps_replicas': 0, '_keep_checkpoint_max': 5, '_tf_random_seed': None, '_task_type': None, '_environment': 'local', '_is_chief': True, '_cluster_spec': <tensorflow.python.training.server_lib.ClusterSpec object at 0x7f7af2aa8850>, '_tf_config': gpu_options {\n",
      "  per_process_gpu_memory_fraction: 1\n",
      "}\n",
      ", '_task_id': 0, '_save_summary_steps': 100, '_save_checkpoints_steps': None, '_evaluation_master': '', '_keep_checkpoint_every_n_hours': 10000, '_master': ''}\n",
      "WARNING:tensorflow:From <ipython-input-46-08155fd75f7f>:116: calling fit (from tensorflow.contrib.learn.python.learn.estimators.estimator) with y is deprecated and will be removed after 2016-12-01.\n",
      "Instructions for updating:\n",
      "Estimator is decoupled from Scikit Learn interface by moving into\n",
      "separate class SKCompat. Arguments x, y and batch_size are only\n",
      "available in the SKCompat class, Estimator will only accept input_fn.\n",
      "Example conversion:\n",
      "  est = Estimator(...) -> est = SKCompat(Estimator(...))\n",
      "WARNING:tensorflow:From <ipython-input-46-08155fd75f7f>:116: calling fit (from tensorflow.contrib.learn.python.learn.estimators.estimator) with x is deprecated and will be removed after 2016-12-01.\n",
      "Instructions for updating:\n",
      "Estimator is decoupled from Scikit Learn interface by moving into\n",
      "separate class SKCompat. Arguments x, y and batch_size are only\n",
      "available in the SKCompat class, Estimator will only accept input_fn.\n",
      "Example conversion:\n",
      "  est = Estimator(...) -> est = SKCompat(Estimator(...))\n",
      "WARNING:tensorflow:From <ipython-input-46-08155fd75f7f>:70: softmax_cross_entropy (from tensorflow.contrib.losses.python.losses.loss_ops) is deprecated and will be removed after 2016-12-30.\n",
      "Instructions for updating:\n",
      "Use tf.losses.softmax_cross_entropy instead.\n",
      "WARNING:tensorflow:From /opt/conda/envs/python2/lib/python2.7/site-packages/tensorflow/contrib/losses/python/losses/loss_ops.py:394: compute_weighted_loss (from tensorflow.contrib.losses.python.losses.loss_ops) is deprecated and will be removed after 2016-12-30.\n",
      "Instructions for updating:\n",
      "Use tf.losses.compute_weighted_loss instead.\n",
      "WARNING:tensorflow:From /opt/conda/envs/python2/lib/python2.7/site-packages/tensorflow/contrib/losses/python/losses/loss_ops.py:151: add_loss (from tensorflow.contrib.losses.python.losses.loss_ops) is deprecated and will be removed after 2016-12-30.\n",
      "Instructions for updating:\n",
      "Use tf.losses.add_loss instead.\n",
      "INFO:tensorflow:Create CheckpointSaverHook.\n",
      "INFO:tensorflow:Saving checkpoints for 1 into /tmp/tmpb5sjrC/model.ckpt.\n",
      "INFO:tensorflow:loss = 2.82663, step = 1\n",
      "INFO:tensorflow:global_step/sec: 0.760895\n",
      "INFO:tensorflow:loss = 0.0691881, step = 101\n",
      "INFO:tensorflow:Saving checkpoints for 200 into /tmp/tmpb5sjrC/model.ckpt.\n",
      "INFO:tensorflow:Loss for final step: 0.117487.\n",
      "WARNING:tensorflow:From <ipython-input-46-08155fd75f7f>:120: calling predict (from tensorflow.contrib.learn.python.learn.estimators.estimator) with x is deprecated and will be removed after 2016-12-01.\n",
      "Instructions for updating:\n",
      "Estimator is decoupled from Scikit Learn interface by moving into\n",
      "separate class SKCompat. Arguments x, y and batch_size are only\n",
      "available in the SKCompat class, Estimator will only accept input_fn.\n",
      "Example conversion:\n",
      "  est = Estimator(...) -> est = SKCompat(Estimator(...))\n",
      "WARNING:tensorflow:From <ipython-input-46-08155fd75f7f>:70: softmax_cross_entropy (from tensorflow.contrib.losses.python.losses.loss_ops) is deprecated and will be removed after 2016-12-30.\n",
      "Instructions for updating:\n",
      "Use tf.losses.softmax_cross_entropy instead.\n",
      "WARNING:tensorflow:From /opt/conda/envs/python2/lib/python2.7/site-packages/tensorflow/contrib/losses/python/losses/loss_ops.py:394: compute_weighted_loss (from tensorflow.contrib.losses.python.losses.loss_ops) is deprecated and will be removed after 2016-12-30.\n",
      "Instructions for updating:\n",
      "Use tf.losses.compute_weighted_loss instead.\n",
      "WARNING:tensorflow:From /opt/conda/envs/python2/lib/python2.7/site-packages/tensorflow/contrib/losses/python/losses/loss_ops.py:151: add_loss (from tensorflow.contrib.losses.python.losses.loss_ops) is deprecated and will be removed after 2016-12-30.\n",
      "Instructions for updating:\n",
      "Use tf.losses.add_loss instead.\n",
      "[7, 7, 10, 10, 9, 1, 9, 9, 1, 9, 1, 9, 1, 12, 9, 14, 5, 3, 10, 6, 6, 6, 6, 6, 6, 3, 12, 12, 6, 6, 5, 9, 10, 6, 6, 6, 10, 12, 6, 12, 6, 9, 6, 6, 9, 6, 9, 7, 7, 6, 6, 9, 12, 15, 12, 10, 12, 9, 9, 9, 15, 1, 9, 9, 9, 1, 1, 6, 6, 12, 12, 6, 1, 6, 1, 6, 9, 6, 6, 12, 6, 6, 6, 6, 1, 12, 10, 9, 4, 4, 1, 9, 6, 9, 14, 10, 1, 1, 9, 1]\n",
      "Accuracy: 0.300000\n"
     ]
    },
    {
     "ename": "SystemExit",
     "evalue": "",
     "output_type": "error",
     "traceback": [
      "An exception has occurred, use %tb to see the full traceback.\n",
      "\u001b[0;31mSystemExit\u001b[0m\n"
     ]
    }
   ],
   "source": [
    "# -*- coding: utf-8 -*-\n",
    "\n",
    "import numpy as np\n",
    "import os\n",
    "import pandas as pd\n",
    "import pickle\n",
    "import shutil\n",
    "import tensorflow as tf\n",
    "\n",
    "\n",
    "from sklearn import metrics\n",
    "\n",
    "learn = tf.contrib.learn\n",
    "\n",
    "DATA_SET_FILE = './labeled_news.csv'\n",
    "\n",
    "MAX_DOCUMENT_LENGTH = 500\n",
    "N_CLASSES = 17\n",
    "\n",
    "\n",
    "EMBEDDING_SIZE = 100\n",
    "N_FILTERS = 10\n",
    "WINDOW_SIZE = 10\n",
    "FILTER_SHAPE1 = [WINDOW_SIZE, EMBEDDING_SIZE]\n",
    "FILTER_SHAPE2 = [WINDOW_SIZE, N_FILTERS]\n",
    "POOLING_WINDOW = 4\n",
    "POOLING_STRIDE = 2\n",
    "\n",
    "LEARNING_RATE = 0.01\n",
    "STEPS = 200\n",
    "\n",
    "def generate_cnn_model(n_classes, n_words):\n",
    "    \"\"\"2 layer CNN to predict from sequence of words to a class.\"\"\"\n",
    "    def cnn_model(features, target):\n",
    "        # Convert indexes of words into embeddings.\n",
    "        # This creates embeddings matrix of [n_words, EMBEDDING_SIZE] and then\n",
    "        # maps word indexes of the sequence into [batch_size, sequence_length,\n",
    "        # EMBEDDING_SIZE].\n",
    "\n",
    "        target = tf.one_hot(target, n_classes, 1, 0)\n",
    "        word_vectors = tf.contrib.layers.embed_sequence(\n",
    "            features, vocab_size=n_words, embed_dim=EMBEDDING_SIZE, scope='words')\n",
    "\n",
    "        word_vectors = tf.expand_dims(word_vectors, 3)\n",
    "        \n",
    "        with tf.variable_scope('CNN_layer1'):\n",
    "            # Apply Convolution filtering on input sequence.\n",
    "            conv1 = tf.contrib.layers.convolution2d(\n",
    "                word_vectors, N_FILTERS, FILTER_SHAPE1, padding='VALID')\n",
    "            # Add a RELU for non linearity.\n",
    "            conv1 = tf.nn.relu(conv1)\n",
    "            # Max pooling across output of Convolution+Relu.\n",
    "            pool1 = tf.nn.max_pool(\n",
    "                conv1,\n",
    "                ksize=[1, POOLING_WINDOW, 1, 1],\n",
    "                strides=[1, POOLING_STRIDE, 1, 1],\n",
    "                padding='SAME')\n",
    "            # Transpose matrix so that n_filters from convolution becomes width.\n",
    "            pool1 = tf.transpose(pool1, [0, 1, 3, 2])\n",
    "      \n",
    "        with tf.variable_scope('CNN_layer2'):\n",
    "            # Second level of convolution filtering.\n",
    "            conv2 = tf.contrib.layers.convolution2d(\n",
    "                pool1, N_FILTERS, FILTER_SHAPE2, padding='VALID')\n",
    "            # Max across each filter to get useful features for classification.\n",
    "            pool2 = tf.squeeze(tf.reduce_max(conv2, 1), squeeze_dims=[1])\n",
    "\n",
    "        # Apply regular WX + B and classification.\n",
    "        logits = tf.contrib.layers.fully_connected(pool2, n_classes, activation_fn=None)\n",
    "        loss = tf.contrib.losses.softmax_cross_entropy(logits, target)\n",
    "\n",
    "        train_op = tf.contrib.layers.optimize_loss(\n",
    "          loss,\n",
    "          tf.contrib.framework.get_global_step(),\n",
    "          optimizer='Adam',\n",
    "          learning_rate=LEARNING_RATE)\n",
    "\n",
    "        return ({\n",
    "          'class': tf.argmax(logits, 1),\n",
    "          'prob': tf.nn.softmax(logits)\n",
    "        }, loss, train_op)\n",
    "\n",
    "    return cnn_model\n",
    "\n",
    "\n",
    "def main(unused_argv):\n",
    "    # Prepare training and testing data\n",
    "    df = pd.read_csv(DATA_SET_FILE, header=None)\n",
    "\n",
    "    # Random shuffle\n",
    "    df.sample(frac=1)\n",
    "\n",
    "    train_df = df[0:400]\n",
    "    test_df = df.drop(train_df.index)\n",
    "\n",
    "    # x - news title, y - class\n",
    "    x_train = train_df[1]\n",
    "    y_train = train_df[0]\n",
    "    x_test = test_df[1]\n",
    "    y_test = test_df[0]\n",
    "\n",
    "    # Process vocabulary\n",
    "    vocab_processor = learn.preprocessing.VocabularyProcessor(MAX_DOCUMENT_LENGTH)\n",
    "    x_train = np.array(list(vocab_processor.fit_transform(x_train)))\n",
    "    x_test = np.array(list(vocab_processor.transform(x_test)))\n",
    "\n",
    "    n_words = len(vocab_processor.vocabulary_)\n",
    "    print('Total words: %d' % n_words)\n",
    "  \n",
    "    # Build model\n",
    "    classifier = learn.Estimator(\n",
    "        model_fn=generate_cnn_model(N_CLASSES, n_words))\n",
    "\n",
    "    # Train and predict\n",
    "    classifier.fit(x_train, y_train, steps=STEPS)\n",
    "\n",
    "    # Evaluate model\n",
    "    y_predicted = [\n",
    "        p['class'] for p in classifier.predict(x_test, as_iterable=True)\n",
    "    ]\n",
    "    print y_predicted\n",
    "\n",
    "    score = metrics.accuracy_score(y_test, y_predicted)\n",
    "    print('Accuracy: {0:f}'.format(score))\n",
    "\n",
    "if __name__ == '__main__':\n",
    "    tf.app.run(main=main)\n",
    "\n",
    "\n"
   ]
  },
  {
   "cell_type": "code",
   "execution_count": null,
   "metadata": {
    "collapsed": true
   },
   "outputs": [],
   "source": []
  },
  {
   "cell_type": "code",
   "execution_count": null,
   "metadata": {
    "collapsed": true
   },
   "outputs": [],
   "source": []
  }
 ],
 "metadata": {
  "kernelspec": {
   "display_name": "Python 2",
   "language": "python",
   "name": "python2"
  },
  "language_info": {
   "codemirror_mode": {
    "name": "ipython",
    "version": 2
   },
   "file_extension": ".py",
   "mimetype": "text/x-python",
   "name": "python",
   "nbconvert_exporter": "python",
   "pygments_lexer": "ipython2",
   "version": "2.7.13"
  }
 },
 "nbformat": 4,
 "nbformat_minor": 2
}
